{
 "cells": [
  {
   "cell_type": "markdown",
   "metadata": {},
   "source": [
    "<h1>Whatsapp Messages Processing</h1>"
   ]
  },
  {
   "cell_type": "code",
   "execution_count": 143,
   "metadata": {},
   "outputs": [],
   "source": [
    "import numpy as np\n",
    "import pandas as pd\n",
    "from datetime import date\n",
    "from stop_words import get_stop_words # python -m pip install stop-words\n",
    "import string\n",
    "from nltk.probability import FreqDist\n",
    "from nltk.tokenize import word_tokenize\n",
    "import seaborn as sns\n",
    "import matplotlib.pyplot as plt"
   ]
  },
  {
   "cell_type": "code",
   "execution_count": 226,
   "metadata": {},
   "outputs": [
    {
     "name": "stdout",
     "output_type": "stream",
     "text": [
      "CPU times: user 3.04 s, sys: 67.8 ms, total: 3.11 s\n",
      "Wall time: 3.65 s\n"
     ]
    }
   ],
   "source": [
    "%%time\n",
    "# Runs in a few (3-4) seconds for a messages file of 44k lines\n",
    "\n",
    "def get_word_frequencies(file_url, start_date):\n",
    "    \n",
    "    # Example message:\n",
    "    # '22-05-19 15:22 - Neal: Hahaha'\n",
    "\n",
    "    \n",
    "    # Determine stop words (words to be removed because they are not interesting)\n",
    "    stop_words_nltk = get_stop_words('nl')\n",
    "    stop_words_custom = ['\\n','<Media weggelaten>','en']\n",
    "    stop_words = set(stop_words_nltk) | set(stop_words_custom)\n",
    "\n",
    "    messages = []               # This list will contain messages as lists of words\n",
    "    start_to_capture = False    # This boolean will determine whether we are past the \n",
    "                                #   start_date and can start to capture messages.\n",
    "\n",
    "    # Read file line by line\n",
    "    with open(file_url) as file:\n",
    "        for line in file:\n",
    "\n",
    "            # Some messages are just showing that a user has sent an image file; skip these\n",
    "            if ('<Media weggelaten>' in line):\n",
    "                continue\n",
    "\n",
    "            # Extract message contents (split by ':' results in the last elt containing the message)\n",
    "            message = line.split(':')\n",
    "\n",
    "            # Try to extract the message date (quick and dirty)\n",
    "            try:\n",
    "                # Extract message date\n",
    "                message_date = np.array(message[0].split(' ')[0].split('-')).astype(int)\n",
    "                message_date = date(message_date[2]+2000, message_date[1], message_date[0])\n",
    "            except:\n",
    "                continue\n",
    "\n",
    "            # Determine whether we can start to capture the messages\n",
    "            # (test whether we are past the 'start' date)\n",
    "            if (start_to_capture == False and message_date >= start_date):\n",
    "                start_to_capture = True\n",
    "\n",
    "            # Process the contents of the message if past the start date\n",
    "            if (start_to_capture):\n",
    "\n",
    "                # Remove some stuff and split into single words\n",
    "                message_text = \":\".join(message[2:]).replace('\\n','').replace(',','').split(' ')\n",
    "                \n",
    "                # Add the message as a list of words\n",
    "                message_text = [word.lower() for word in message_text if word.lower() not in stop_words and len(word) > 0]\n",
    "\n",
    "                # If the message is still interesting, add it to our list of messages\n",
    "                if (len(message) > 0):\n",
    "                    messages.append(message_text)\n",
    "                    \n",
    "    # Return a dictionary-like object containing words and their frequencies \n",
    "    #   Warning: not sorted. Use the method .most_common() to obtain a sorted of the data (see code below))\n",
    "    return FreqDist(word for message in messages for word in message)\n"
   ]
  },
  {
   "cell_type": "markdown",
   "metadata": {},
   "source": [
    "<h3>Obtain frequencies</h3>"
   ]
  },
  {
   "cell_type": "code",
   "execution_count": 229,
   "metadata": {},
   "outputs": [],
   "source": [
    "file_url = '/Users/jan/Downloads/WhatsApp-chat met Ægir.txt'\n",
    "\n",
    "start_date = date(2020, 3, 12) # Format: Y,M,D\n",
    "frequencies_postlockdown = get_word_frequencies(file_url, start_date)\n",
    "\n",
    "start_date = date(1970,1,1)\n",
    "frequencies_overall = get_word_frequencies(file_url, start_date)"
   ]
  },
  {
   "cell_type": "markdown",
   "metadata": {},
   "source": [
    "<h3>Plot top 10 in lockdown period</h3>"
   ]
  },
  {
   "cell_type": "code",
   "execution_count": 227,
   "metadata": {},
   "outputs": [
    {
     "data": {
      "image/png": "[encoded data removed]",
      "text/plain": [
       "<Figure size 432x288 with 1 Axes>"
      ]
     },
     "metadata": {
      "needs_background": "light"
     },
     "output_type": "display_data"
    }
   ],
   "source": [
    "\n",
    "# Post Corona (set filter date in cell above)\n",
    "top_k = 10\n",
    "frequencies_common = frequencies_postlockdown.most_common()\n",
    "frequencies_common = {'words': [word for (word,_) in frequencies_common[:top_k]], \n",
    "                                 'freqs': [freq for (_,freq) in frequencies_common[:top_k]]}\n",
    "\n",
    "fig = sns.barplot(x=frequencies_common['words'],y=frequencies_common['freqs'],zorder=4)\n",
    "fig.set_title('Top 10 meest gebruikte woorden vanaf begin lockdown')\n",
    "plt.ylabel('count')\n",
    "plt.xticks(rotation=25)\n",
    "plt.grid(linestyle=\":\")\n",
    "plt.savefig('aegir/post_lockdown.pdf')"
   ]
  },
  {
   "cell_type": "markdown",
   "metadata": {},
   "source": [
    "<h4>Save words that were used only once in this period to disk</h4>"
   ]
  },
  {
   "cell_type": "code",
   "execution_count": 189,
   "metadata": {},
   "outputs": [],
   "source": [
    "# Words that are used only once\n",
    "once_words = np.array([str(word) for (word,freq) in frequencies_postcorona.most_common() if freq==1])\n",
    "pd.DataFrame(once_words).to_csv('aegir/once_words_post_lockdown.txt', header=None, index=None)"
   ]
  },
  {
   "cell_type": "markdown",
   "metadata": {},
   "source": [
    "<h3>Plot top 10 overall</h3>"
   ]
  },
  {
   "cell_type": "code",
   "execution_count": 225,
   "metadata": {},
   "outputs": [
    {
     "data": {
      "image/png": "[encoded data removed]",
      "text/plain": [
       "<Figure size 432x288 with 1 Axes>"
      ]
     },
     "metadata": {
      "needs_background": "light"
     },
     "output_type": "display_data"
    }
   ],
   "source": [
    "\n",
    "# Over all time (set filter date in cell above)\n",
    "top_k = 10\n",
    "frequencies_common = frequencies_overall.most_common()\n",
    "frequencies_common = {'words': [word for (word,_) in frequencies_common[:top_k]], \n",
    "                                 'freqs': [freq for (_,freq) in frequencies_common[:top_k]]}\n",
    "\n",
    "fig = sns.barplot(x=frequencies_common['words'],y=frequencies_common['freqs'],zorder=4)\n",
    "fig.set_title('Top 10 meest gebruikte woorden vanaf begin dispuutswhatsappgroep')\n",
    "plt.ylabel('count')\n",
    "plt.xticks(rotation=25)\n",
    "plt.grid(linestyle=\":\")\n",
    "plt.savefig('aegir/overall.pdf')"
   ]
  },
  {
   "cell_type": "markdown",
   "metadata": {},
   "source": [
    "<h4>Show words that occur within a certain frequency window</h4>"
   ]
  },
  {
   "cell_type": "code",
   "execution_count": null,
   "metadata": {},
   "outputs": [],
   "source": [
    "# Show words that occur within a certain frequency window\n",
    "min_freq = 1\n",
    "max_freq = 12\n",
    "words = np.array([(word,freq) for (word,freq) in frequencies_postcorona.most_common() if freq>=min_freq and freq<=max_freq])\n",
    "for w,f in words:\n",
    "    print(w,f)"
   ]
  }
 ],
 "metadata": {
  "kernelspec": {
   "display_name": "Python 3",
   "language": "python",
   "name": "python3"
  },
  "language_info": {
   "codemirror_mode": {
    "name": "ipython",
    "version": 3
   },
   "file_extension": ".py",
   "mimetype": "text/x-python",
   "name": "python",
   "nbconvert_exporter": "python",
   "pygments_lexer": "ipython3",
   "version": "3.8.3"
  }
 },
 "nbformat": 4,
 "nbformat_minor": 4
}
